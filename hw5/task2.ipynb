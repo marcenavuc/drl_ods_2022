{
 "cells": [
  {
   "cell_type": "code",
   "execution_count": 1,
   "id": "9577ca9d",
   "metadata": {},
   "outputs": [],
   "source": [
    "import gym\n",
    "import torch\n",
    "import torch.nn as nn\n",
    "import numpy as np\n",
    "from tqdm import tqdm\n",
    "import matplotlib.pyplot as plt\n",
    "\n",
    "import random"
   ]
  },
  {
   "cell_type": "code",
   "execution_count": 2,
   "id": "ee6ce2bc",
   "metadata": {},
   "outputs": [],
   "source": [
    "class NN(nn.Module):\n",
    "    def __init__(self, state_dim, action_n):\n",
    "        super().__init__()\n",
    "        self.linear1 = nn.Linear(state_dim, 32)\n",
    "        self.linear2 = nn.Linear(32, 32)\n",
    "        self.linear3 = nn.Linear(32, action_n)\n",
    "        self.relu = nn.ReLU()\n",
    "\n",
    "    def forward(self, state):\n",
    "        hidden = self.linear1(state)\n",
    "        hidden = self.relu(hidden)\n",
    "        hidden = self.linear2(hidden)\n",
    "        hidden = self.relu(hidden)\n",
    "        qvalues = self.linear3(hidden)\n",
    "        return qvalues"
   ]
  },
  {
   "cell_type": "code",
   "execution_count": 3,
   "id": "4ec230f1",
   "metadata": {},
   "outputs": [],
   "source": [
    "class DQN():\n",
    "    def __init__(self, action_n, model, batch_size, gamma, lr, trajectory_n, kind='default'):\n",
    "        self.kind = kind\n",
    "        self.action_n = action_n\n",
    "        self.model = model\n",
    "        self.batch_size = batch_size\n",
    "        self.gamma = gamma\n",
    "        self.lr = lr\n",
    "        \n",
    "        self.epsilon = 1\n",
    "        self.epsilon_decrease = 1 / trajectory_n\n",
    "        self.memory = []\n",
    "        self.optimizer = torch.optim.Adam(self.model.parameters(), lr=self.lr)\n",
    "\n",
    "    def get_action(self, state):\n",
    "        qvalues = self.model(torch.FloatTensor(state)).detach().numpy()\n",
    "        prob = np.ones(self.action_n) * self.epsilon / self.action_n\n",
    "        argmax_action = np.argmax(qvalues)\n",
    "        prob[argmax_action] += 1 - self.epsilon\n",
    "        action = np.random.choice(np.arange(self.action_n), p=prob)\n",
    "        return action\n",
    "\n",
    "    def get_batch(self):\n",
    "        batch = random.sample(self.memory, self.batch_size)\n",
    "        states, actions, rewards, dones, next_states = [], [], [], [], []\n",
    "        for i in range(len(batch)):\n",
    "            states.append(batch[i][0])\n",
    "            actions.append(batch[i][1])\n",
    "            rewards.append(batch[i][2])\n",
    "            dones.append(batch[i][3])\n",
    "            next_states.append(batch[i][4])\n",
    "        states = torch.FloatTensor(states)\n",
    "        next_states = torch.FloatTensor(next_states)\n",
    "        return states, actions, rewards, dones, next_states\n",
    "\n",
    "    def fit(self, state, action, reward, done, next_state):\n",
    "        self.memory.append([state, action, reward, done, next_state])\n",
    "\n",
    "        if len(self.memory) > self.batch_size:\n",
    "            states, actions, rewards, dones, next_states = self.get_batch()\n",
    "\n",
    "            qvalues = self.model(states)\n",
    "            next_qvalues = self.model(next_states)\n",
    "            \n",
    "            if self.kind == 'default':\n",
    "                targets = qvalues.clone()\n",
    "                for i in range(self.batch_size):\n",
    "                    targets[i][actions[i]] = rewards[i] + (1 - dones[i]) * self.gamma * torch.max(next_qvalues[i])\n",
    "\n",
    "                loss = torch.mean((targets.detach() - qvalues) ** 2)\n",
    "                loss.backward()\n",
    "                self.optimizer.step()\n",
    "                self.optimizer.zero_grad()\n",
    "\n",
    "                self.epsilon = max(0, self.epsilon - self.epsilon_decrease)\n",
    "            if self.kind == 'hard':\n",
    "                # как параметры фиксировать для nn \n",
    "                pass\n",
    "            if self.kind == 'soft':\n",
    "                # как парметры фиксировать для nn\n",
    "                pass\n",
    "            if self.kind == 'double':\n",
    "                # как парметры фиксировать для nn\n",
    "                pass"
   ]
  },
  {
   "cell_type": "code",
   "execution_count": 4,
   "id": "b7dd728d",
   "metadata": {},
   "outputs": [
    {
     "name": "stderr",
     "output_type": "stream",
     "text": [
      "/Users/m.averchenko/PycharmProjects/drl_ods_2022/venv/lib/python3.9/site-packages/gym/core.py:317: DeprecationWarning: \u001b[33mWARN: Initializing wrapper in old step API which returns one bool instead of two. It is recommended to set `new_step_api=True` to use new step API. This will be the default behaviour in future.\u001b[0m\n",
      "  deprecation(\n",
      "/Users/m.averchenko/PycharmProjects/drl_ods_2022/venv/lib/python3.9/site-packages/gym/wrappers/step_api_compatibility.py:39: DeprecationWarning: \u001b[33mWARN: Initializing environment in old step API which returns one bool instead of two. It is recommended to set `new_step_api=True` to use new step API. This will be the default behaviour in future.\u001b[0m\n",
      "  deprecation(\n"
     ]
    }
   ],
   "source": [
    "env = gym.make('Acrobot-v1')\n",
    "state_dim = env.observation_space.shape[0]\n",
    "action_n = env.action_space.n"
   ]
  },
  {
   "cell_type": "code",
   "execution_count": null,
   "id": "2fc1e9cf",
   "metadata": {},
   "outputs": [],
   "source": []
  }
 ],
 "metadata": {
  "kernelspec": {
   "display_name": "Python 3 (ipykernel)",
   "language": "python",
   "name": "python3"
  },
  "language_info": {
   "codemirror_mode": {
    "name": "ipython",
    "version": 3
   },
   "file_extension": ".py",
   "mimetype": "text/x-python",
   "name": "python",
   "nbconvert_exporter": "python",
   "pygments_lexer": "ipython3",
   "version": "3.9.6"
  }
 },
 "nbformat": 4,
 "nbformat_minor": 5
}
