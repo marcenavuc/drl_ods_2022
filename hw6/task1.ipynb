{
 "cells": [
  {
   "cell_type": "code",
   "execution_count": 2,
   "id": "305e15ac",
   "metadata": {},
   "outputs": [],
   "source": [
    "import numpy as np\n",
    "import torch\n",
    "import torch.nn as nn\n",
    "import gym\n",
    "from tqdm import tqdm\n",
    "import optuna\n",
    "\n",
    "import random\n",
    "from collections import deque\n",
    "from copy import deepcopy"
   ]
  },
  {
   "cell_type": "code",
   "execution_count": null,
   "id": "41cb5e6b",
   "metadata": {},
   "outputs": [],
   "source": []
  },
  {
   "cell_type": "code",
   "execution_count": 3,
   "id": "8390ac72",
   "metadata": {},
   "outputs": [],
   "source": [
    "class OUNoise:\n",
    "    def __init__(self, action_dimension, mu=0, theta=0.15, sigma=0.3):\n",
    "        self.action_dimension = action_dimension\n",
    "        self.mu = mu\n",
    "        self.theta = theta\n",
    "        self.sigma = sigma\n",
    "        self.state = np.ones(self.action_dimension) * self.mu\n",
    "        self.reset()\n",
    "\n",
    "    def reset(self):\n",
    "        self.state = np.ones(self.action_dimension) * self.mu\n",
    "\n",
    "    def sample(self):\n",
    "        x = self.state\n",
    "        dx = self.theta * (self.mu - x) + self.sigma * np.random.randn(len(x))\n",
    "        self.state = x + dx\n",
    "        return self.state"
   ]
  },
  {
   "cell_type": "code",
   "execution_count": 4,
   "id": "e1eb29fd",
   "metadata": {},
   "outputs": [],
   "source": [
    "class TwoLayersNeuralNetwork(nn.Module):\n",
    "    def __init__(self, input_dim, layer1_dim, layer2_dim, output_dim, output_tanh):\n",
    "        super().__init__()\n",
    "        self.layer1 = nn.Linear(input_dim, layer1_dim)\n",
    "        self.layer2 = nn.Linear(layer1_dim, layer2_dim)\n",
    "        self.layer3 = nn.Linear(layer2_dim, output_dim)\n",
    "        self.output_tanh = output_tanh\n",
    "        self.relu = nn.ReLU()\n",
    "        self.tanh = nn.Tanh()\n",
    "        \n",
    "    def forward(self, input):\n",
    "        hidden = self.layer1(input)\n",
    "        hidden = self.relu(hidden)\n",
    "        hidden = self.layer2(hidden)\n",
    "        hidden = self.relu(hidden)\n",
    "        output = self.layer3(hidden)\n",
    "        \n",
    "        if self.output_tanh:\n",
    "            return self.tanh(output)\n",
    "        else:\n",
    "            return output"
   ]
  },
  {
   "cell_type": "code",
   "execution_count": 5,
   "id": "78fb6647",
   "metadata": {},
   "outputs": [],
   "source": [
    "class DDPG:\n",
    "    def __init__(self, state_dim, action_dim, action_scale, noise_decrease,\n",
    "                 gamma=0.99, batch_size=64, q_lr=1e-3, pi_lr=1e-4, tau=1e-2, memory_size=100000):\n",
    "        self.state_dim = state_dim\n",
    "        self.action_dim = action_dim\n",
    "        self.action_scale = action_scale\n",
    "        self.pi_model = TwoLayersNeuralNetwork(self.state_dim, 400, 300, self.action_dim, output_tanh=True)\n",
    "        self.q_model = TwoLayersNeuralNetwork(self.state_dim + self.action_dim, 400, 300, 1, output_tanh=False)\n",
    "        self.pi_target_model = deepcopy(self.pi_model)\n",
    "        self.q_target_model = deepcopy(self.q_model)\n",
    "        self.noise = OUNoise(self.action_dim)\n",
    "        self.noise_threshold = 1\n",
    "        self.noise_decrease = noise_decrease\n",
    "        self.gamma = gamma\n",
    "        self.tau = tau\n",
    "        self.batch_size = batch_size\n",
    "        self.q_optimazer = torch.optim.Adam(self.q_model.parameters(), lr=q_lr)\n",
    "        self.pi_optimazer = torch.optim.Adam(self.pi_model.parameters(), lr=pi_lr)\n",
    "        self.memory = deque(maxlen=memory_size)\n",
    "    \n",
    "    def get_action(self, state):\n",
    "        pred_action = self.pi_model(torch.FloatTensor(state)).detach().numpy()\n",
    "        action = self.action_scale * (pred_action + self.noise_threshold * self.noise.sample())\n",
    "        return np.clip(action, -self.action_scale, self.action_scale)\n",
    "    \n",
    "    def update_target_model(self, target_model, model, optimazer, loss):\n",
    "        optimazer.zero_grad()\n",
    "        loss.backward()\n",
    "        optimazer.step()\n",
    "        for target_param, param in zip(target_model.parameters(), model.parameters()):\n",
    "            target_param.data.copy_((1 - self.tau) * target_param.data + self.tau * param.data) \n",
    "    \n",
    "    \n",
    "    def fit(self, state, action, reward, done, next_state):\n",
    "        self.memory.append([state, action, reward, done, next_state])\n",
    "        \n",
    "        if len(self.memory) > self.batch_size:\n",
    "            batch = random.sample(self.memory, self.batch_size)\n",
    "            states, actions, rewards, dones, next_states = map(torch.FloatTensor, zip(*batch))\n",
    "            rewards = rewards.reshape(self.batch_size, 1)\n",
    "            dones = dones.reshape(self.batch_size, 1)\n",
    "            \n",
    "            pred_next_actions = self.action_scale * self.pi_target_model(next_states)\n",
    "            next_states_and_pred_next_actions = torch.cat((next_states, pred_next_actions), dim=1)\n",
    "            targets = rewards + self.gamma * (1 - dones) * self.q_target_model(next_states_and_pred_next_actions)\n",
    "            \n",
    "            states_and_actions = torch.cat((states, actions), dim=1)\n",
    "            temp = (self.q_model(states_and_actions) - targets.detach())\n",
    "            q_loss = torch.mean((targets.detach() - self.q_model(states_and_actions)) ** 2)\n",
    "            self.update_target_model(self.q_target_model, self.q_model, self.q_optimazer, q_loss)\n",
    "            \n",
    "            pred_actions = self.action_scale * self.pi_model(states)\n",
    "            states_and_pred_actions = torch.cat((states, pred_actions), dim=1)\n",
    "            pi_loss = - torch.mean(self.q_model(states_and_pred_actions))\n",
    "            self.update_target_model(self.pi_target_model, self.pi_model, self.pi_optimazer, pi_loss)\n",
    "            \n",
    "        if self.noise_threshold > 0:\n",
    "            self.noise_threshold = max(0, self.noise_threshold - self.noise_decrease)"
   ]
  },
  {
   "cell_type": "code",
   "execution_count": 23,
   "outputs": [],
   "source": [
    "import matplotlib.pyplot as plt\n",
    "from matplotlib import animation\n",
    "\n",
    "def save_frames_as_gif(frames, path='./', filename='gym_animation.gif'):\n",
    "\n",
    "    #Mess with this to change frame size\n",
    "    plt.figure(figsize=(frames[0].shape[1] / 72.0, frames[0].shape[0] / 72.0), dpi=72)\n",
    "\n",
    "    patch = plt.imshow(frames[0])\n",
    "    plt.axis('off')\n",
    "\n",
    "    def animate(i):\n",
    "        patch.set_data(frames[i])\n",
    "\n",
    "    anim = animation.FuncAnimation(plt.gcf(), animate, frames=len(frames), interval=50)\n",
    "    anim.save(path + filename, writer='pillow', fps=60)"
   ],
   "metadata": {
    "collapsed": false,
    "pycharm": {
     "name": "#%%\n"
    }
   }
  },
  {
   "cell_type": "code",
   "execution_count": 16,
   "id": "edad97fa",
   "metadata": {},
   "outputs": [
    {
     "name": "stderr",
     "output_type": "stream",
     "text": [
      "C:\\Users\\marka\\anaconda3\\envs\\drl_ods_2022\\lib\\site-packages\\gym\\core.py:317: DeprecationWarning: \u001B[33mWARN: Initializing wrapper in old step API which returns one bool instead of two. It is recommended to set `new_step_api=True` to use new step API. This will be the default behaviour in future.\u001B[0m\n",
      "  deprecation(\n",
      "C:\\Users\\marka\\anaconda3\\envs\\drl_ods_2022\\lib\\site-packages\\gym\\wrappers\\step_api_compatibility.py:39: DeprecationWarning: \u001B[33mWARN: Initializing environment in old step API which returns one bool instead of two. It is recommended to set `new_step_api=True` to use new step API. This will be the default behaviour in future.\u001B[0m\n",
      "  deprecation(\n"
     ]
    }
   ],
   "source": [
    "EPISODE_N = 200\n",
    "TRAJECTORY_LEN = 200\n",
    "\n",
    "env = gym.make('Pendulum-v1')\n",
    "state_dim = env.observation_space.shape[0]\n",
    "action_dim = env.action_space.shape[0]\n",
    "\n",
    "memory = {}\n",
    "\n",
    "def objective(trial):\n",
    "    params = {\n",
    "        'gamma': trial.suggest_float('gamma', 0.95, 0.999),\n",
    "        'batch_size': trial.suggest_int('batch_size', 64, 512, 128),\n",
    "        'q_lr': trial.suggest_float('q_lr', 1e-5, 1e-1, log=True),\n",
    "        'pi_lr': trial.suggest_float('pi_lr', 1e-5, 1e-1, log=True),\n",
    "        'tau': trial.suggest_float('tau', 1e-5, 1e-1, log=True),\n",
    "    }\n",
    "    \n",
    "    default_params = {\n",
    "        'state_dim': env.observation_space.shape[0],\n",
    "        'action_dim': env.action_space.shape[0],\n",
    "        'action_scale': 2,\n",
    "        'noise_decrease': 1 / (EPISODE_N * TRAJECTORY_LEN)\n",
    "        \n",
    "    }\n",
    "    \n",
    "    params.update(default_params)\n",
    "    \n",
    "    agent = DDPG(**params)\n",
    "    max_total_reward = -float('inf')\n",
    "    results = {'total_rewards': [], 'frames': []}\n",
    "    for _ in tqdm(range(EPISODE_N)):\n",
    "        total_reward = 0\n",
    "        frames = []\n",
    "        state = env.reset()\n",
    "        for _ in range(TRAJECTORY_LEN):\n",
    "            action = agent.get_action(state)\n",
    "            next_action, reward, done, _ = env.step(action)\n",
    "            total_reward += reward\n",
    "\n",
    "            agent.fit(state, action, reward, done, next_action)\n",
    "\n",
    "            if done:\n",
    "                break\n",
    "\n",
    "            frames.append(env.render(mode=\"rgb_array\"))\n",
    "            state = next_action\n",
    "        if total_reward > max_total_reward:\n",
    "            max_total_reward = total_reward\n",
    "\n",
    "        results['frames'] = frames\n",
    "        results['total_rewards'].append(total_reward)\n",
    "    print(trial.number, max_total_reward)\n",
    "    memory[trial.number] = results\n",
    "    return max_total_reward"
   ]
  },
  {
   "cell_type": "code",
   "execution_count": 17,
   "id": "8f192959",
   "metadata": {},
   "outputs": [
    {
     "name": "stderr",
     "output_type": "stream",
     "text": [
      "\u001B[32m[I 2023-01-06 19:09:08,770]\u001B[0m A new study created in memory with name: no-name-e8f0e837-0ef5-421a-80eb-7c82fc273bdc\u001B[0m\n",
      "C:\\Users\\marka\\anaconda3\\envs\\drl_ods_2022\\lib\\site-packages\\optuna\\distributions.py:683: UserWarning: The distribution is specified by [64, 512] and step=128, but the range is not divisible by `step`. It will be replaced by [64, 448].\n",
      "  warnings.warn(\n",
      "  0%|          | 0/200 [00:00<?, ?it/s]C:\\Users\\marka\\anaconda3\\envs\\drl_ods_2022\\lib\\site-packages\\gym\\core.py:43: DeprecationWarning: \u001B[33mWARN: The argument mode in render method is deprecated; use render_mode during environment initialization instead.\n",
      "See here for more information: https://www.gymlibrary.ml/content/api/\u001B[0m\n",
      "  deprecation(\n",
      "100%|██████████| 200/200 [11:09<00:00,  3.35s/it]\n",
      "\u001B[32m[I 2023-01-06 19:20:18,547]\u001B[0m Trial 0 finished with value: -922.8761726546236 and parameters: {'gamma': 0.9577540291130957, 'batch_size': 64, 'q_lr': 0.0009359079947401895, 'pi_lr': 0.009744332496124433, 'tau': 0.00011935636794670495}. Best is trial 0 with value: -922.8761726546236.\u001B[0m\n"
     ]
    },
    {
     "name": "stdout",
     "output_type": "stream",
     "text": [
      "0 -922.8761726546236\n"
     ]
    },
    {
     "name": "stderr",
     "output_type": "stream",
     "text": [
      "100%|██████████| 200/200 [18:17<00:00,  5.49s/it]\n",
      "\u001B[32m[I 2023-01-06 19:38:36,111]\u001B[0m Trial 1 finished with value: -0.08081690547874738 and parameters: {'gamma': 0.950387926018559, 'batch_size': 448, 'q_lr': 0.00013914777401228748, 'pi_lr': 0.0001710890969148858, 'tau': 0.00277620769531692}. Best is trial 0 with value: -922.8761726546236.\u001B[0m\n"
     ]
    },
    {
     "name": "stdout",
     "output_type": "stream",
     "text": [
      "1 -0.08081690547874738\n"
     ]
    },
    {
     "name": "stderr",
     "output_type": "stream",
     "text": [
      "100%|██████████| 200/200 [14:25<00:00,  4.33s/it]\n",
      "\u001B[32m[I 2023-01-06 19:53:01,227]\u001B[0m Trial 2 finished with value: -0.7205272080337028 and parameters: {'gamma': 0.9895022016535842, 'batch_size': 192, 'q_lr': 0.00025927706324860604, 'pi_lr': 0.02049617302707764, 'tau': 0.05481375557177994}. Best is trial 0 with value: -922.8761726546236.\u001B[0m\n"
     ]
    },
    {
     "name": "stdout",
     "output_type": "stream",
     "text": [
      "2 -0.7205272080337028\n"
     ]
    },
    {
     "name": "stderr",
     "output_type": "stream",
     "text": [
      "100%|██████████| 200/200 [12:05<00:00,  3.63s/it]\n",
      "\u001B[32m[I 2023-01-06 20:05:06,273]\u001B[0m Trial 3 finished with value: -0.9144065064933763 and parameters: {'gamma': 0.9870567282111629, 'batch_size': 64, 'q_lr': 0.0016610690905400347, 'pi_lr': 0.0011183736530705805, 'tau': 0.0007165660840939694}. Best is trial 0 with value: -922.8761726546236.\u001B[0m\n"
     ]
    },
    {
     "name": "stdout",
     "output_type": "stream",
     "text": [
      "3 -0.9144065064933763\n"
     ]
    },
    {
     "name": "stderr",
     "output_type": "stream",
     "text": [
      "100%|██████████| 200/200 [17:02<00:00,  5.11s/it]\n",
      "\u001B[32m[I 2023-01-06 20:22:09,001]\u001B[0m Trial 4 finished with value: -773.6039049647718 and parameters: {'gamma': 0.957135469791779, 'batch_size': 320, 'q_lr': 0.0003609681257154031, 'pi_lr': 0.005556947150034269, 'tau': 0.0012236282620349402}. Best is trial 0 with value: -922.8761726546236.\u001B[0m\n"
     ]
    },
    {
     "name": "stdout",
     "output_type": "stream",
     "text": [
      "4 -773.6039049647718\n"
     ]
    }
   ],
   "source": [
    "study = optuna.create_study()\n",
    "study.optimize(objective, n_trials=5)"
   ]
  },
  {
   "cell_type": "code",
   "execution_count": 21,
   "id": "134dfdf9",
   "metadata": {},
   "outputs": [
    {
     "data": {
      "text/plain": "[<matplotlib.lines.Line2D at 0x291c0a0dfd0>]"
     },
     "execution_count": 21,
     "metadata": {},
     "output_type": "execute_result"
    },
    {
     "data": {
      "text/plain": "<Figure size 640x480 with 1 Axes>",
      "image/png": "[encoded data removed]"
     },
     "metadata": {},
     "output_type": "display_data"
    }
   ],
   "source": [
    "plt.plot(memory[2]['total_rewards'])"
   ]
  },
  {
   "cell_type": "code",
   "execution_count": 24,
   "outputs": [
    {
     "data": {
      "text/plain": "<Figure size 500x500 with 1 Axes>",
      "image/png": "[encoded data removed]"
     },
     "metadata": {},
     "output_type": "display_data"
    }
   ],
   "source": [
    "save_frames_as_gif(memory[2]['frames'], filename='task1.gif')"
   ],
   "metadata": {
    "collapsed": false,
    "pycharm": {
     "name": "#%%\n"
    }
   }
  },
  {
   "cell_type": "code",
   "execution_count": null,
   "outputs": [],
   "source": [],
   "metadata": {
    "collapsed": false,
    "pycharm": {
     "name": "#%%\n"
    }
   }
  }
 ],
 "metadata": {
  "kernelspec": {
   "display_name": "Python 3 (ipykernel)",
   "language": "python",
   "name": "python3"
  },
  "language_info": {
   "codemirror_mode": {
    "name": "ipython",
    "version": 3
   },
   "file_extension": ".py",
   "mimetype": "text/x-python",
   "name": "python",
   "nbconvert_exporter": "python",
   "pygments_lexer": "ipython3",
   "version": "3.9.7"
  }
 },
 "nbformat": 4,
 "nbformat_minor": 5
}