{
 "cells": [
  {
   "cell_type": "code",
   "execution_count": 1,
   "metadata": {},
   "outputs": [],
   "source": [
    "import gym\n",
    "import torch\n",
    "import torch.nn as nn\n",
    "import numpy as np\n",
    "from tqdm import tqdm\n",
    "import matplotlib.pyplot as plt\n",
    "\n",
    "import random"
   ]
  },
  {
   "cell_type": "code",
   "execution_count": 2,
   "metadata": {},
   "outputs": [],
   "source": [
    "class DQN():\n",
    "    def __init__(self, state_dim, action_n, batch_size, gamma, lr, trajectory_n):\n",
    "        self.action_n = action_n\n",
    "        self.epsilon = 1\n",
    "        self.batch_size = batch_size\n",
    "        self.gamma = gamma\n",
    "        self.lr = lr\n",
    "        \n",
    "        self.model = nn.Sequential(\n",
    "            nn.Linear(state_dim, 256),\n",
    "            nn.ReLU(),\n",
    "            nn.Linear(256, 128),\n",
    "            nn.ReLU(),\n",
    "            nn.Linear(128, self.action_n)\n",
    "        )\n",
    "        self.epsilon_decrease = 1 / trajectory_n\n",
    "        self.memory = []\n",
    "        self.optimizer = torch.optim.Adam(self.model.parameters(), lr=self.lr)\n",
    "\n",
    "    def get_action(self, state):\n",
    "        qvalues = self.model(torch.FloatTensor(state)).detach().numpy()\n",
    "        prob = np.ones(self.action_n) * self.epsilon / self.action_n\n",
    "        argmax_action = np.argmax(qvalues)\n",
    "        prob[argmax_action] += 1 - self.epsilon\n",
    "        action = np.random.choice(np.arange(self.action_n), p=prob)\n",
    "        return action\n",
    "\n",
    "    def get_batch(self):\n",
    "        batch = random.sample(self.memory, self.batch_size)\n",
    "        states, actions, rewards, dones, next_states = [], [], [], [], []\n",
    "        for i in range(len(batch)):\n",
    "            states.append(batch[i][0])\n",
    "            actions.append(batch[i][1])\n",
    "            rewards.append(batch[i][2])\n",
    "            dones.append(batch[i][3])\n",
    "            next_states.append(batch[i][4])\n",
    "        states = torch.FloatTensor(states)\n",
    "        next_states = torch.FloatTensor(next_states)\n",
    "        return states, actions, rewards, dones, next_states\n",
    "\n",
    "    def fit(self, state, action, reward, done, next_state):\n",
    "        self.memory.append([state, action, reward, done, next_state])\n",
    "\n",
    "        if len(self.memory) > self.batch_size:\n",
    "            states, actions, rewards, dones, next_states = self.get_batch()\n",
    "\n",
    "            qvalues = self.model(states)\n",
    "            next_qvalues = self.model(next_states)\n",
    "\n",
    "            targets = qvalues.clone()\n",
    "            for i in range(self.batch_size):\n",
    "                targets[i][actions[i]] = rewards[i] + (1 - dones[i]) * self.gamma * torch.max(next_qvalues[i])\n",
    "\n",
    "            loss = torch.mean((targets.detach() - qvalues) ** 2)\n",
    "            loss.backward()\n",
    "            self.optimizer.step()\n",
    "            self.optimizer.zero_grad()\n",
    "\n",
    "            self.epsilon = max(0, self.epsilon - self.epsilon_decrease)"
   ]
  },
  {
   "cell_type": "code",
   "execution_count": 3,
   "metadata": {},
   "outputs": [],
   "source": [
    "import os\n",
    "\n",
    "import torch\n",
    "import gym\n",
    "import pandas as pd\n",
    "from torch import nn\n",
    "import numpy as np\n",
    "from matplotlib import animation\n",
    "import matplotlib.pyplot as plt\n",
    "\n",
    "\n",
    "\n",
    "class CEM(nn.Module):\n",
    "    def __init__(self, state_dim, action_n, q_param):\n",
    "        super().__init__()\n",
    "        self.state_dim = state_dim\n",
    "        self.action_n = action_n\n",
    "        self.q_param = q_param\n",
    "\n",
    "        self.network = nn.Sequential(\n",
    "            nn.Linear(self.state_dim, 256),\n",
    "            nn.ReLU(),\n",
    "            nn.Linear(256, 128),\n",
    "            nn.ReLU(),\n",
    "            nn.Linear(128, self.action_n)\n",
    "        )\n",
    "\n",
    "        self.softmax = nn.Softmax()\n",
    "        self.optimizer = torch.optim.Adam(self.parameters(), lr=0.01)\n",
    "        self.loss = nn.CrossEntropyLoss()\n",
    "\n",
    "    def forward(self, _input):\n",
    "        return self.network(_input)\n",
    "\n",
    "    def get_action(self, state):\n",
    "        state = torch.FloatTensor(state)\n",
    "        logits = self.forward(state)\n",
    "        action_prob = self.softmax(logits).detach().numpy()\n",
    "        action = np.random.choice(self.action_n, p=action_prob)\n",
    "        return action\n",
    "\n",
    "    def update_policy(self, elite_trajectories):\n",
    "        elite_states = []\n",
    "        elite_actions = []\n",
    "        for trajectory in elite_trajectories:\n",
    "            elite_states.extend(trajectory['states'])\n",
    "            elite_actions.extend(trajectory['actions'])\n",
    "        elite_states = torch.FloatTensor(elite_states)\n",
    "        elite_actions = torch.LongTensor(elite_actions)\n",
    "\n",
    "        loss = self.loss(self.forward(elite_states), elite_actions)\n",
    "        loss.backward()\n",
    "        self.optimizer.step()\n",
    "        self.optimizer.zero_grad()\n",
    "\n",
    "\n",
    "def fit(agent, episode_n, trajectory_n, trajectory_len):\n",
    "    total_rewards = []\n",
    "    for episode in range(episode_n):\n",
    "        trajectories = [get_trajectory(agent, trajectory_len) for _ in\n",
    "                        range(trajectory_n)]\n",
    "\n",
    "        mean_total_reward = np.mean(\n",
    "            [trajectory['total_reward'] for trajectory in trajectories])\n",
    "        total_rewards.append(mean_total_reward)\n",
    "\n",
    "        elite_trajectories = get_elite_trajectories(trajectories, agent.q_param)\n",
    "\n",
    "        if len(elite_trajectories) > 0:\n",
    "            agent.update_policy(elite_trajectories)\n",
    "    return total_rewards\n",
    "\n",
    "\n",
    "def get_scores(env, agent, trajectory_len, trajectory_n, filename):\n",
    "    get_trajectory(env, agent, trajectory_len, visualize=True, filename=filename)\n",
    "    trajectories = [get_trajectory(env, agent, trajectory_len) for _ in range(trajectory_n)]\n",
    "    return np.mean([trajectory['total_reward'] for trajectory in trajectories])\n",
    "\n",
    "\n",
    "def save_frames_as_gif(frames, path='./', filename='gym_animation.gif'):\n",
    "\n",
    "    #Mess with this to change frame size\n",
    "    plt.figure(figsize=(frames[0].shape[1] / 72.0, frames[0].shape[0] / 72.0), dpi=72)\n",
    "\n",
    "    patch = plt.imshow(frames[0])\n",
    "    plt.axis('off')\n",
    "\n",
    "    def animate(i):\n",
    "        patch.set_data(frames[i])\n",
    "\n",
    "    anim = animation.FuncAnimation(plt.gcf(), animate, frames=len(frames), interval=50)\n",
    "    anim.save(path + filename, writer='imagemagick', fps=60)\n",
    "\n",
    "\n",
    "def get_trajectory(agent, trajectory_len, visualize=False, filename=''):\n",
    "    trajectory = {'states': [], 'actions': [], 'total_reward': 0}\n",
    "\n",
    "    frames = []\n",
    "    state = env.reset()\n",
    "    trajectory['states'].append(state)\n",
    "\n",
    "    for _ in range(trajectory_len):\n",
    "\n",
    "        action = agent.get_action(state)\n",
    "        trajectory['actions'].append(action)\n",
    "\n",
    "        state, reward, done, _ = env.step(action)\n",
    "        trajectory['total_reward'] += reward\n",
    "\n",
    "        if done:\n",
    "            break\n",
    "\n",
    "        if visualize:\n",
    "            frames.append(env.render(mode=\"rgb_array\"))\n",
    "\n",
    "        trajectory['states'].append(state)\n",
    "\n",
    "    if visualize:\n",
    "        save_frames_as_gif(frames, filename=filename)\n",
    "    return trajectory\n",
    "\n",
    "\n",
    "def get_elite_trajectories(trajectories, q_param):\n",
    "    total_rewards = [trajectory['total_reward'] for trajectory in trajectories]\n",
    "    quantile = np.quantile(total_rewards, q=q_param)\n",
    "    return [trajectory for trajectory in trajectories if\n",
    "            trajectory['total_reward'] > quantile]"
   ]
  },
  {
   "cell_type": "code",
   "execution_count": 5,
   "metadata": {},
   "outputs": [
    {
     "name": "stderr",
     "output_type": "stream",
     "text": [
      "C:\\Users\\marka\\anaconda3\\lib\\site-packages\\gym\\core.py:317: DeprecationWarning: \u001b[33mWARN: Initializing wrapper in old step API which returns one bool instead of two. It is recommended to set `new_step_api=True` to use new step API. This will be the default behaviour in future.\u001b[0m\n",
      "  deprecation(\n",
      "C:\\Users\\marka\\anaconda3\\lib\\site-packages\\gym\\wrappers\\step_api_compatibility.py:39: DeprecationWarning: \u001b[33mWARN: Initializing environment in old step API which returns one bool instead of two. It is recommended to set `new_step_api=True` to use new step API. This will be the default behaviour in future.\u001b[0m\n",
      "  deprecation(\n"
     ]
    }
   ],
   "source": [
    "env = gym.make('Acrobot-v1')\n",
    "state_dim = env.observation_space.shape[0]\n",
    "action_n = env.action_space.n"
   ]
  },
  {
   "cell_type": "code",
   "execution_count": 6,
   "metadata": {},
   "outputs": [],
   "source": [
    "def train_dcem(qparam=0.3, episode_n=50, trajectory_n=50, trajectory_len=500):\n",
    "    agent = CEM(state_dim, action_n, q_param=qparam)\n",
    "    result = fit(agent,\n",
    "                 episode_n=episode_n,\n",
    "                 trajectory_n=trajectory_n,\n",
    "                 trajectory_len=trajectory_len)\n",
    "    return result"
   ]
  },
  {
   "cell_type": "code",
   "execution_count": 7,
   "metadata": {},
   "outputs": [],
   "source": [
    "def train_dqn(trajectory_n=50, trajectory_len=500, batch_size=64, gamma=0.99, lr=1e-2):\n",
    "#     model = NN(state_dim, action_n)\n",
    "    agent = DQN(state_dim, action_n, batch_size, gamma, lr, trajectory_n)\n",
    "\n",
    "    result = []\n",
    "    for trajectory_i in range(trajectory_n):\n",
    "        total_rewards = 0\n",
    "\n",
    "        state = env.reset()\n",
    "        for i in range(trajectory_len):\n",
    "            action = agent.get_action(state)\n",
    "            next_state, reward, done, _ = env.step(action)\n",
    "\n",
    "            total_rewards += reward\n",
    "\n",
    "            agent.fit(state, action, reward, done, next_state)\n",
    "\n",
    "            state = next_state\n",
    "\n",
    "            if done:\n",
    "                break\n",
    "\n",
    "        result.append(total_rewards)\n",
    "    return result\n"
   ]
  },
  {
   "cell_type": "code",
   "execution_count": 8,
   "metadata": {},
   "outputs": [
    {
     "name": "stderr",
     "output_type": "stream",
     "text": [
      "C:\\Users\\marka\\AppData\\Local\\Temp/ipykernel_27616/3283792573.py:38: UserWarning: Implicit dimension choice for softmax has been deprecated. Change the call to include dim=X as an argument.\n",
      "  action_prob = self.softmax(logits).detach().numpy()\n",
      "C:\\Users\\marka\\AppData\\Local\\Temp/ipykernel_27616/3283792573.py:48: UserWarning: Creating a tensor from a list of numpy.ndarrays is extremely slow. Please consider converting the list to a single numpy.ndarray with numpy.array() before converting to a tensor. (Triggered internally at  C:\\cb\\pytorch_1000000000000\\work\\torch\\csrc\\utils\\tensor_new.cpp:210.)\n",
      "  elite_states = torch.FloatTensor(elite_states)\n"
     ]
    },
    {
     "data": {
      "text/plain": [
       "<matplotlib.legend.Legend at 0x24a72d1efd0>"
      ]
     },
     "execution_count": 8,
     "metadata": {},
     "output_type": "execute_result"
    },
    {
     "data": {
      "image/png": "[encoded data removed]",
      "text/plain": [
       "<Figure size 432x288 with 1 Axes>"
      ]
     },
     "metadata": {
      "needs_background": "light"
     },
     "output_type": "display_data"
    }
   ],
   "source": [
    "plt.plot(train_dcem(), label='dcem')\n",
    "plt.plot(train_dqn(batch_size=24), label='dqn')\n",
    "plt.legend()"
   ]
  },
  {
   "cell_type": "code",
   "execution_count": null,
   "metadata": {},
   "outputs": [],
   "source": []
  },
  {
   "cell_type": "code",
   "execution_count": null,
   "metadata": {},
   "outputs": [],
   "source": []
  },
  {
   "cell_type": "code",
   "execution_count": 8,
   "metadata": {},
   "outputs": [],
   "source": [
    "def find_best_model(model_type):\n",
    "    env = gym.make('Acrobot-v1')\n",
    "    state_dim = env.observation_space.shape[0]\n",
    "    action_n = env.action_space.n\n",
    "    \n",
    "    N_EXPERIMENTS = 10\n",
    "    \n",
    "    params = {\n",
    "        \"q_param\": [0.3,0.4, 0.5, 0.5, 0.7],\n",
    "        \"episode_n\": [50],\n",
    "        \"trajectory_n\": [50],\n",
    "        \"trajectory_len\": [500, 1000, 2000, 10 ** 4],\n",
    "        \"lr\": [1e-2, 1e-3, 1e-4],\n",
    "        \"gamma\": [0.8, 0.9, 0.95, 0.99, 0.99],\n",
    "        \"batch_size\": [4, 8, 16]\n",
    "    }\n",
    "    \n",
    "    experiments = []\n",
    "    experiments_result = []\n",
    "    for i in tqdm(range(N_EXPERIMENTS)):\n",
    "        exp = {}\n",
    "        for key in params:\n",
    "            exp[key] = np.random.choice(params[key])\n",
    "        print('Experiment', i, exp)\n",
    "        experiments.append(exp)\n",
    "    \n",
    "        if model_type == 'dqn':\n",
    "            result = train_dqn(\n",
    "                trajectory_n=exp['trajectory_n'],\n",
    "                trajectory_len=exp['trajectory_len'],\n",
    "                batch_size=exp['batch_size'],\n",
    "                gamma=exp['gamma'],\n",
    "                lr=exp['lr']\n",
    "            )\n",
    "        if model_type == 'dcem':\n",
    "            result = train_dcem(\n",
    "                qparam=exp['q_param'],\n",
    "                episode_n=exp['episode_n'],\n",
    "                trajectory_n=exp['trajectory_n'],\n",
    "                trajectory_len=exp['trajectory_len']\n",
    "            )\n",
    "        experiments_result.append(result)\n",
    "    return experiments, experiments_result"
   ]
  },
  {
   "cell_type": "code",
   "execution_count": 10,
   "metadata": {},
   "outputs": [
    {
     "name": "stdout",
     "output_type": "stream",
     "text": [
      "dqn\n"
     ]
    },
    {
     "name": "stderr",
     "output_type": "stream",
     "text": [
      "\r",
      "  0%|                                                                                                              | 0/10 [00:00<?, ?it/s]"
     ]
    },
    {
     "name": "stdout",
     "output_type": "stream",
     "text": [
      "Experiment 0 {'q_param': 0.5, 'episode_n': 50, 'trajectory_n': 50, 'trajectory_len': 1000, 'lr': 0.0001, 'gamma': 0.99, 'batch_size': 256}\n"
     ]
    },
    {
     "name": "stderr",
     "output_type": "stream",
     "text": [
      "\r",
      " 10%|██████████▏                                                                                           | 1/10 [01:35<14:16, 95.18s/it]"
     ]
    },
    {
     "name": "stdout",
     "output_type": "stream",
     "text": [
      "Experiment 1 {'q_param': 0.5, 'episode_n': 50, 'trajectory_n': 50, 'trajectory_len': 2000, 'lr': 0.01, 'gamma': 0.8, 'batch_size': 128}\n"
     ]
    },
    {
     "name": "stderr",
     "output_type": "stream",
     "text": [
      "\r",
      " 20%|████████████████████▏                                                                                | 2/10 [03:24<13:46, 103.27s/it]"
     ]
    },
    {
     "name": "stdout",
     "output_type": "stream",
     "text": [
      "Experiment 2 {'q_param': 0.3, 'episode_n': 50, 'trajectory_n': 50, 'trajectory_len': 10000, 'lr': 0.001, 'gamma': 0.99, 'batch_size': 256}\n"
     ]
    },
    {
     "name": "stderr",
     "output_type": "stream",
     "text": [
      "\r",
      " 30%|██████████████████████████████▎                                                                      | 3/10 [05:30<13:18, 114.04s/it]"
     ]
    },
    {
     "name": "stdout",
     "output_type": "stream",
     "text": [
      "Experiment 3 {'q_param': 0.3, 'episode_n': 50, 'trajectory_n': 50, 'trajectory_len': 2000, 'lr': 0.01, 'gamma': 0.95, 'batch_size': 256}\n"
     ]
    },
    {
     "name": "stderr",
     "output_type": "stream",
     "text": [
      "\r",
      " 40%|████████████████████████████████████████▍                                                            | 4/10 [07:02<10:31, 105.30s/it]"
     ]
    },
    {
     "name": "stdout",
     "output_type": "stream",
     "text": [
      "Experiment 4 {'q_param': 0.5, 'episode_n': 50, 'trajectory_n': 50, 'trajectory_len': 1000, 'lr': 0.01, 'gamma': 0.8, 'batch_size': 64}\n"
     ]
    },
    {
     "name": "stderr",
     "output_type": "stream",
     "text": [
      "\r",
      " 50%|███████████████████████████████████████████████████                                                   | 5/10 [07:50<07:01, 84.33s/it]"
     ]
    },
    {
     "name": "stdout",
     "output_type": "stream",
     "text": [
      "Experiment 5 {'q_param': 0.4, 'episode_n': 50, 'trajectory_n': 50, 'trajectory_len': 500, 'lr': 0.01, 'gamma': 0.9, 'batch_size': 128}\n"
     ]
    },
    {
     "name": "stderr",
     "output_type": "stream",
     "text": [
      "\r",
      " 60%|█████████████████████████████████████████████████████████████▏                                        | 6/10 [09:40<06:12, 93.15s/it]"
     ]
    },
    {
     "name": "stdout",
     "output_type": "stream",
     "text": [
      "Experiment 6 {'q_param': 0.4, 'episode_n': 50, 'trajectory_n': 50, 'trajectory_len': 2000, 'lr': 0.001, 'gamma': 0.99, 'batch_size': 128}\n"
     ]
    },
    {
     "name": "stderr",
     "output_type": "stream",
     "text": [
      "\r",
      " 70%|███████████████████████████████████████████████████████████████████████▍                              | 7/10 [10:53<04:20, 86.71s/it]"
     ]
    },
    {
     "name": "stdout",
     "output_type": "stream",
     "text": [
      "Experiment 7 {'q_param': 0.4, 'episode_n': 50, 'trajectory_n': 50, 'trajectory_len': 2000, 'lr': 0.0001, 'gamma': 0.8, 'batch_size': 128}\n"
     ]
    },
    {
     "name": "stderr",
     "output_type": "stream",
     "text": [
      "\r",
      " 80%|█████████████████████████████████████████████████████████████████████████████████▌                    | 8/10 [12:50<03:12, 96.19s/it]"
     ]
    },
    {
     "name": "stdout",
     "output_type": "stream",
     "text": [
      "Experiment 8 {'q_param': 0.5, 'episode_n': 50, 'trajectory_n': 50, 'trajectory_len': 500, 'lr': 0.0001, 'gamma': 0.8, 'batch_size': 256}\n"
     ]
    },
    {
     "name": "stderr",
     "output_type": "stream",
     "text": [
      "\r",
      " 90%|██████████████████████████████████████████████████████████████████████████████████████████▉          | 9/10 [17:13<02:28, 148.39s/it]"
     ]
    },
    {
     "name": "stdout",
     "output_type": "stream",
     "text": [
      "Experiment 9 {'q_param': 0.7, 'episode_n': 50, 'trajectory_n': 50, 'trajectory_len': 500, 'lr': 0.0001, 'gamma': 0.99, 'batch_size': 256}\n"
     ]
    },
    {
     "name": "stderr",
     "output_type": "stream",
     "text": [
      "100%|████████████████████████████████████████████████████████████████████████████████████████████████████| 10/10 [19:06<00:00, 114.65s/it]\n"
     ]
    },
    {
     "name": "stdout",
     "output_type": "stream",
     "text": [
      "dcem\n"
     ]
    },
    {
     "name": "stderr",
     "output_type": "stream",
     "text": [
      "  0%|                                                                                                              | 0/10 [00:00<?, ?it/s]/var/folders/nj/kkhdpmks2fj8_3rtb4rd3j_h0000gq/T/ipykernel_67912/3283792573.py:38: UserWarning: Implicit dimension choice for softmax has been deprecated. Change the call to include dim=X as an argument.\n",
      "  action_prob = self.softmax(logits).detach().numpy()\n"
     ]
    },
    {
     "name": "stdout",
     "output_type": "stream",
     "text": [
      "Experiment 0 {'q_param': 0.4, 'episode_n': 50, 'trajectory_n': 50, 'trajectory_len': 10000, 'lr': 0.0001, 'gamma': 0.8, 'batch_size': 64}\n"
     ]
    },
    {
     "name": "stderr",
     "output_type": "stream",
     "text": [
      "\r",
      " 10%|██████████                                                                                           | 1/10 [06:25<57:47, 385.33s/it]"
     ]
    },
    {
     "name": "stdout",
     "output_type": "stream",
     "text": [
      "Experiment 1 {'q_param': 0.7, 'episode_n': 50, 'trajectory_n': 50, 'trajectory_len': 500, 'lr': 0.0001, 'gamma': 0.8, 'batch_size': 128}\n"
     ]
    },
    {
     "name": "stderr",
     "output_type": "stream",
     "text": [
      "\r",
      " 20%|████████████████████▏                                                                                | 2/10 [07:42<27:10, 203.86s/it]"
     ]
    },
    {
     "name": "stdout",
     "output_type": "stream",
     "text": [
      "Experiment 2 {'q_param': 0.7, 'episode_n': 50, 'trajectory_n': 50, 'trajectory_len': 2000, 'lr': 0.01, 'gamma': 0.8, 'batch_size': 128}\n"
     ]
    },
    {
     "name": "stderr",
     "output_type": "stream",
     "text": [
      "\r",
      " 30%|██████████████████████████████▎                                                                      | 3/10 [08:54<16:45, 143.60s/it]"
     ]
    },
    {
     "name": "stdout",
     "output_type": "stream",
     "text": [
      "Experiment 3 {'q_param': 0.7, 'episode_n': 50, 'trajectory_n': 50, 'trajectory_len': 10000, 'lr': 0.001, 'gamma': 0.99, 'batch_size': 128}\n"
     ]
    },
    {
     "name": "stderr",
     "output_type": "stream",
     "text": [
      "\r",
      " 40%|████████████████████████████████████████▍                                                            | 4/10 [10:09<11:39, 116.64s/it]"
     ]
    },
    {
     "name": "stdout",
     "output_type": "stream",
     "text": [
      "Experiment 4 {'q_param': 0.5, 'episode_n': 50, 'trajectory_n': 50, 'trajectory_len': 1000, 'lr': 0.0001, 'gamma': 0.8, 'batch_size': 256}\n"
     ]
    },
    {
     "name": "stderr",
     "output_type": "stream",
     "text": [
      "\r",
      " 50%|██████████████████████████████████████████████████▌                                                  | 5/10 [12:51<11:05, 133.19s/it]"
     ]
    },
    {
     "name": "stdout",
     "output_type": "stream",
     "text": [
      "Experiment 5 {'q_param': 0.5, 'episode_n': 50, 'trajectory_n': 50, 'trajectory_len': 2000, 'lr': 0.01, 'gamma': 0.99, 'batch_size': 64}\n"
     ]
    },
    {
     "name": "stderr",
     "output_type": "stream",
     "text": [
      "\r",
      " 60%|████████████████████████████████████████████████████████████▌                                        | 6/10 [14:34<08:11, 122.84s/it]"
     ]
    },
    {
     "name": "stdout",
     "output_type": "stream",
     "text": [
      "Experiment 6 {'q_param': 0.5, 'episode_n': 50, 'trajectory_n': 50, 'trajectory_len': 2000, 'lr': 0.01, 'gamma': 0.8, 'batch_size': 128}\n"
     ]
    },
    {
     "name": "stderr",
     "output_type": "stream",
     "text": [
      "\r",
      " 70%|██████████████████████████████████████████████████████████████████████▋                              | 7/10 [16:15<05:46, 115.62s/it]"
     ]
    },
    {
     "name": "stdout",
     "output_type": "stream",
     "text": [
      "Experiment 7 {'q_param': 0.7, 'episode_n': 50, 'trajectory_n': 50, 'trajectory_len': 500, 'lr': 0.01, 'gamma': 0.99, 'batch_size': 64}\n"
     ]
    },
    {
     "name": "stderr",
     "output_type": "stream",
     "text": [
      "\r",
      " 80%|████████████████████████████████████████████████████████████████████████████████▊                    | 8/10 [22:42<06:43, 201.89s/it]"
     ]
    },
    {
     "name": "stdout",
     "output_type": "stream",
     "text": [
      "Experiment 8 {'q_param': 0.7, 'episode_n': 50, 'trajectory_n': 50, 'trajectory_len': 500, 'lr': 0.001, 'gamma': 0.99, 'batch_size': 256}\n"
     ]
    },
    {
     "name": "stderr",
     "output_type": "stream",
     "text": [
      "\r",
      " 90%|██████████████████████████████████████████████████████████████████████████████████████████▉          | 9/10 [24:00<02:43, 163.39s/it]"
     ]
    },
    {
     "name": "stdout",
     "output_type": "stream",
     "text": [
      "Experiment 9 {'q_param': 0.3, 'episode_n': 50, 'trajectory_n': 50, 'trajectory_len': 500, 'lr': 0.0001, 'gamma': 0.9, 'batch_size': 64}\n"
     ]
    },
    {
     "name": "stderr",
     "output_type": "stream",
     "text": [
      "100%|████████████████████████████████████████████████████████████████████████████████████████████████████| 10/10 [26:20<00:00, 158.02s/it]\n"
     ]
    }
   ],
   "source": [
    "print('dqn')\n",
    "dqn_exp, dqn_result = find_best_model('dqn')\n",
    "print('dcem')\n",
    "dcem_exp, dcem_result = find_best_model('dcem')"
   ]
  },
  {
   "cell_type": "code",
   "execution_count": 17,
   "metadata": {},
   "outputs": [
    {
     "data": {
      "text/plain": [
       "(10, 10)"
      ]
     },
     "execution_count": 17,
     "metadata": {},
     "output_type": "execute_result"
    }
   ],
   "source": [
    "dqn_result = np.array(dqn_result)\n",
    "dcem_result = np.array(dcem_result)\n",
    "\n",
    "len(dqn_exp), len(dcem_exp)"
   ]
  },
  {
   "cell_type": "code",
   "execution_count": 31,
   "metadata": {},
   "outputs": [
    {
     "data": {
      "text/plain": [
       "<matplotlib.legend.Legend at 0x123fb3f70>"
      ]
     },
     "execution_count": 31,
     "metadata": {},
     "output_type": "execute_result"
    },
    {
     "data": {
      "image/png": "[encoded data removed]",
      "text/plain": [
       "<Figure size 640x480 with 1 Axes>"
      ]
     },
     "metadata": {},
     "output_type": "display_data"
    }
   ],
   "source": [
    "best_dqn = np.argmax(np.max(dqn_result, axis=1))\n",
    "best_dcem = np.argmax(np.max(dcem_result, axis=1))\n",
    "\n",
    "print(best_dqn)\n",
    "print(best_dcem)\n",
    "plt.plot(dcem_result[best_dcem], label='dcem')\n",
    "plt.plot(dqn_result[best_dqn], label='dqn')\n",
    "plt.legend()"
   ]
  },
  {
   "cell_type": "code",
   "execution_count": null,
   "metadata": {},
   "outputs": [],
   "source": []
  }
 ],
 "metadata": {
  "kernelspec": {
   "display_name": "Python 3 (ipykernel)",
   "language": "python",
   "name": "python3"
  },
  "language_info": {
   "codemirror_mode": {
    "name": "ipython",
    "version": 3
   },
   "file_extension": ".py",
   "mimetype": "text/x-python",
   "name": "python",
   "nbconvert_exporter": "python",
   "pygments_lexer": "ipython3",
   "version": "3.9.7"
  }
 },
 "nbformat": 4,
 "nbformat_minor": 1
}
